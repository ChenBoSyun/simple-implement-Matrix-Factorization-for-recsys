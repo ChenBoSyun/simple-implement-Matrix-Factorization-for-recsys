{
 "cells": [
  {
   "cell_type": "markdown",
   "metadata": {},
   "source": [
    "# implement matrix factorization for movielens dataset"
   ]
  },
  {
   "cell_type": "code",
   "execution_count": 1,
   "metadata": {},
   "outputs": [],
   "source": [
    "%matplotlib inline\n",
    "import numpy as np\n",
    "import matplotlib\n",
    "import matplotlib.pyplot as plt\n",
    "import pandas as pd\n",
    "from scipy.sparse import csr_matrix\n",
    "np.seterr(all='raise')\n",
    "import warnings"
   ]
  },
  {
   "cell_type": "markdown",
   "metadata": {
    "collapsed": true
   },
   "source": [
    "# load data from movielens"
   ]
  },
  {
   "cell_type": "code",
   "execution_count": 20,
   "metadata": {
    "scrolled": true
   },
   "outputs": [],
   "source": [
    "df = pd.DataFrame(np.zeros((943,1682) , dtype=np.float64))"
   ]
  },
  {
   "cell_type": "code",
   "execution_count": 3,
   "metadata": {},
   "outputs": [
    {
     "name": "stdout",
     "output_type": "stream",
     "text": [
      "(943, 1682)\n"
     ]
    }
   ],
   "source": [
    "print(df.shape)"
   ]
  },
  {
   "cell_type": "code",
   "execution_count": 4,
   "metadata": {
    "collapsed": true
   },
   "outputs": [],
   "source": [
    "with open(\"movielens_100K.data\" , \"r\") as data:\n",
    "    for line in data:\n",
    "        line_l = line.split()\n",
    "        df.iloc[int(line_l[0])-1 , int(line_l[1])-1] = int(line_l[2])"
   ]
  },
  {
   "cell_type": "code",
   "execution_count": 5,
   "metadata": {},
   "outputs": [],
   "source": [
    "rating_data = df.as_matrix()"
   ]
  },
  {
   "cell_type": "code",
   "execution_count": 76,
   "metadata": {},
   "outputs": [
    {
     "name": "stdout",
     "output_type": "stream",
     "text": [
      "[[ 5.  3.  4. ...,  0.  0.  0.]\n",
      " [ 4.  0.  0. ...,  0.  0.  0.]\n",
      " [ 0.  0.  0. ...,  0.  0.  0.]\n",
      " ..., \n",
      " [ 5.  0.  0. ...,  0.  0.  0.]\n",
      " [ 0.  0.  0. ...,  0.  0.  0.]\n",
      " [ 0.  5.  0. ...,  0.  0.  0.]]\n"
     ]
    }
   ],
   "source": [
    "print(rating_data)"
   ]
  },
  {
   "cell_type": "markdown",
   "metadata": {},
   "source": [
    "# matrix factorization"
   ]
  },
  {
   "cell_type": "code",
   "execution_count": 89,
   "metadata": {
    "collapsed": true
   },
   "outputs": [],
   "source": [
    "class MF():\n",
    "    '''\n",
    "    number of user = 943\n",
    "    number of item = 1682\n",
    "    k = number of latent dim\n",
    "    U = (943 * k) : user latent matrix\n",
    "    V = (1682 * k) : item latent matrix\n",
    "    R = (943 * 1682) : user item rating matrix\n",
    "    alpha = 0.2\n",
    "    '''\n",
    "    def __init__(self , k , rating , iteration , alpha , beta):\n",
    "        \n",
    "        self._num_user , self._num_item = rating.shape\n",
    "        \n",
    "        self._R = rating\n",
    "        self._iteration = iteration\n",
    "        \n",
    "        self._alpha = alpha\n",
    "        self._beta = beta\n",
    "        \n",
    "        #初始化 user latent matrix and item latent matrix\n",
    "        self._U = np.random.normal(loc = 0.0 , scale=1/k , size = (self._num_user , k) )\n",
    "        self._U.astype(np.float64)\n",
    "        self._V = np.random.normal(loc = 0.0 , scale=1/k , size = (self._num_item , k) )\n",
    "        self._V.astype(np.float64)\n",
    "        #初始化 user bias and item bias\n",
    "        self._user_bias = np.zeros(self._num_user ,dtype = \"float64\")\n",
    "        self._item_bias = np.zeros(self._num_item ,dtype = \"float64\")\n",
    "        self._bias = np.mean( self._R[np.where(self._R != 0 )]  ,dtype = \"float64\")\n",
    "        \n",
    "        \n",
    "    def mse(self):\n",
    "        \"\"\"\n",
    "        A function to compute the total mean square error\n",
    "        \"\"\"\n",
    "        xs, ys = self._R.nonzero()\n",
    "        predicted = self.result()\n",
    "        error = 0\n",
    "        for x, y in zip(xs, ys):\n",
    "            error += pow(self._R[x, y] - predicted[x, y], 2)\n",
    "        return np.sqrt(error)\n",
    "        \n",
    "    def train(self):\n",
    "        #create training data\n",
    "        self._training_data = [\n",
    "            (i,j)\n",
    "            for i in range(self._num_user)\n",
    "            for j in range(self._num_item)\n",
    "            if self._R[i,j]!=0 \n",
    "        ]\n",
    "        \n",
    "        training_process = []\n",
    "        \n",
    "        for iteration in range(self._iteration):\n",
    "            np.random.shuffle(self._training_data)\n",
    "            self.sgd()\n",
    "            \n",
    "            mse = self.mse()\n",
    "            training_process.append((iteration, mse))\n",
    "            if (iteration+1) % 10 == 0:\n",
    "                print(\"Iteration: %d ; error = %.4f\" % (iteration+1, mse))\n",
    "        \n",
    "        return training_process\n",
    "    \n",
    "    \n",
    "    def get_prediction(self , i , j):\n",
    "        \n",
    "        prediction = self._bias + self._user_bias[i] + self._item_bias[j] + np.dot( self._U[i,:] , self._V[j,:].T )\n",
    "        return prediction\n",
    "    \n",
    "    def sgd(self):\n",
    "        for i,j in self._training_data:\n",
    "            e = ( self._R[i,j] - self.get_prediction(i,j) )\n",
    "\n",
    "            #update bias\n",
    "            self._user_bias[i] += self._alpha * (e - self._beta * self._user_bias[i])\n",
    "            self._item_bias[j] += self._alpha * (e - self._beta * self._item_bias[j])\n",
    "            \n",
    "            \n",
    "            try:\n",
    "                # update user item latent vector\n",
    "                self._U[i,:] += self._alpha * (e * self._V[j,:] - self._beta * self._U[i,:])           \n",
    "                self._V[j,:] += self._alpha * (e * self._U[i,:] - self._beta * self._V[j,:])\n",
    "            except:\n",
    "                break\n",
    "\n",
    "\n",
    "            \n",
    "\n",
    "    def result(self):\n",
    "        return self._bias + self._user_bias[:,np.newaxis] + self._item_bias[np.newaxis:,] + np.dot(self._U , self._V.T )"
   ]
  },
  {
   "cell_type": "code",
   "execution_count": 90,
   "metadata": {},
   "outputs": [],
   "source": [
    "mf = MF(100 , rating_data ,100 , 0.05 , 0.01)"
   ]
  },
  {
   "cell_type": "code",
   "execution_count": 93,
   "metadata": {
    "scrolled": false
   },
   "outputs": [
    {
     "name": "stdout",
     "output_type": "stream",
     "text": [
      "Iteration: 10 ; error = 30.8690\n",
      "Iteration: 20 ; error = 30.7653\n",
      "Iteration: 30 ; error = 30.5618\n",
      "Iteration: 40 ; error = 30.3245\n",
      "Iteration: 50 ; error = 30.2290\n",
      "Iteration: 60 ; error = 30.2346\n",
      "Iteration: 70 ; error = 30.0238\n",
      "Iteration: 80 ; error = 29.9930\n",
      "Iteration: 90 ; error = 29.9016\n",
      "Iteration: 100 ; error = 29.8097\n"
     ]
    }
   ],
   "source": [
    "training_process = mf.train()"
   ]
  },
  {
   "cell_type": "code",
   "execution_count": 81,
   "metadata": {},
   "outputs": [
    {
     "name": "stdout",
     "output_type": "stream",
     "text": [
      "[[ 4.85748405  2.85270281  4.08949215 ...,  3.29216279  3.61209569\n",
      "   3.39032322]\n",
      " [ 3.98942004  2.33639396  3.93856017 ...,  3.54114366  3.71320958\n",
      "   3.59969814]\n",
      " [ 2.83154301  2.04566983  2.8926328  ...,  2.6673911   3.03279344\n",
      "   2.90349465]\n",
      " ..., \n",
      " [ 4.98732475  3.74288951  3.23868383 ...,  3.5191485   3.88554047\n",
      "   3.71764527]\n",
      " [ 4.21385726  3.42632259  4.19744459 ...,  3.69354097  3.96257622\n",
      "   3.84899867]\n",
      " [ 4.01884865  4.85938589  1.52496295 ...,  3.22432531  3.48439168\n",
      "   3.34806971]]\n"
     ]
    }
   ],
   "source": [
    "print(mf.result())"
   ]
  },
  {
   "cell_type": "code",
   "execution_count": 94,
   "metadata": {},
   "outputs": [
    {
     "data": {
      "image/png": "[encoded data removed]",
      "text/plain": [
       "<matplotlib.figure.Figure at 0x288fe48d390>"
      ]
     },
     "metadata": {},
     "output_type": "display_data"
    }
   ],
   "source": [
    "x = [x for x, y in training_process]\n",
    "y = [y for x, y in training_process]\n",
    "plt.figure(figsize=((16,4)))\n",
    "plt.plot(x, y)\n",
    "plt.xticks(x, x)\n",
    "plt.xlabel(\"Iterations\")\n",
    "plt.ylabel(\"Mean Square Error\")\n",
    "plt.grid(axis=\"y\")"
   ]
  },
  {
   "cell_type": "code",
   "execution_count": null,
   "metadata": {
    "collapsed": true
   },
   "outputs": [],
   "source": []
  }
 ],
 "metadata": {
  "kernelspec": {
   "display_name": "Python 3",
   "language": "python",
   "name": "python3"
  },
  "language_info": {
   "codemirror_mode": {
    "name": "ipython",
    "version": 3
   },
   "file_extension": ".py",
   "mimetype": "text/x-python",
   "name": "python",
   "nbconvert_exporter": "python",
   "pygments_lexer": "ipython3",
   "version": "3.6.2"
  }
 },
 "nbformat": 4,
 "nbformat_minor": 2
}
