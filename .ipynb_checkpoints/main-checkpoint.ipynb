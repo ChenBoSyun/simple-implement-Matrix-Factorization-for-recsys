{
 "cells": [
  {
   "cell_type": "markdown",
   "metadata": {},
   "source": [
    "# implement matrix factorization for movielens dataset"
   ]
  },
  {
   "cell_type": "code",
   "execution_count": 1,
   "metadata": {
    "collapsed": true
   },
   "outputs": [],
   "source": [
    "%matplotlib inline\n",
    "import numpy as np\n",
    "import matplotlib\n",
    "import matplotlib.pyplot as plt\n",
    "import pandas as pd"
   ]
  },
  {
   "cell_type": "markdown",
   "metadata": {
    "collapsed": true
   },
   "source": [
    "# load data from movielens"
   ]
  },
  {
   "cell_type": "code",
   "execution_count": 2,
   "metadata": {
    "collapsed": true,
    "scrolled": true
   },
   "outputs": [],
   "source": [
    "df = pd.DataFrame(np.zeros((943,1682) , dtype=np.float64))"
   ]
  },
  {
   "cell_type": "code",
   "execution_count": 3,
   "metadata": {},
   "outputs": [
    {
     "name": "stdout",
     "output_type": "stream",
     "text": [
      "(943, 1682)\n"
     ]
    }
   ],
   "source": [
    "print(df.shape)"
   ]
  },
  {
   "cell_type": "code",
   "execution_count": 4,
   "metadata": {
    "collapsed": true
   },
   "outputs": [],
   "source": [
    "with open(\"movielens_100K.data\" , \"r\") as data:\n",
    "    for line in data:\n",
    "        line_l = line.split()\n",
    "        df.iloc[int(line_l[0])-1 , int(line_l[1])-1] = int(line_l[2])"
   ]
  },
  {
   "cell_type": "code",
   "execution_count": 5,
   "metadata": {
    "collapsed": true
   },
   "outputs": [],
   "source": [
    "rating_data = df.as_matrix()"
   ]
  },
  {
   "cell_type": "markdown",
   "metadata": {},
   "source": [
    "# matrix factorization"
   ]
  },
  {
   "cell_type": "code",
   "execution_count": 8,
   "metadata": {
    "collapsed": true
   },
   "outputs": [],
   "source": [
    "class MF():\n",
    "    '''\n",
    "    number of user = 943\n",
    "    number of item = 1682\n",
    "    k = number of latent dim\n",
    "    U = (943 * k) : user latent matrix\n",
    "    V = (1682 * k) : item latent matrix\n",
    "    R = (943 * 1682) : user item rating matrix\n",
    "    alpha = 0.2\n",
    "    '''\n",
    "    def __init__(self , k , rating , iteration , alpha , beta):\n",
    "        \n",
    "        self._num_user , self._num_item = rating.shape\n",
    "        \n",
    "        self._R = rating\n",
    "        self._iteration = iteration\n",
    "        \n",
    "        self._alpha = alpha\n",
    "        self._beta = beta\n",
    "        \n",
    "        #初始化 user latent matrix and item latent matrix\n",
    "        self._U = np.random.normal(loc = 0.0 , scale=1/k , size = (self._num_user , k) )\n",
    "        self._U.astype(np.float64)\n",
    "        self._V = np.random.normal(loc = 0.0 , scale=1/k , size = (self._num_item , k) )\n",
    "        self._V.astype(np.float64)\n",
    "        #初始化 user bias and item bias\n",
    "        self._user_bias = np.zeros(self._num_user )\n",
    "        self._item_bias = np.zeros(self._num_item )\n",
    "        self._bias = np.mean( self._R[np.where(self._R != 0 )] )\n",
    "        \n",
    "        \n",
    "    def train(self):\n",
    "        #create training data\n",
    "        self._training_data = [\n",
    "            (i,j)\n",
    "            for i in range(self._num_user)\n",
    "            for j in range(self._num_item)\n",
    "            if self._R[i,j]!=0 \n",
    "        ]\n",
    "        \n",
    "        for iteration in range(self._iteration):\n",
    "            np.random.shuffle(self._training_data)\n",
    "            self.sgd()\n",
    "    \n",
    "    \n",
    "    def get_prediction(self , i , j):\n",
    "        \n",
    "        prediction = self._bias + self._user_bias[i] + self._item_bias[j] + np.dot( self._U[i,:] , self._V[j,:] )\n",
    "        return prediction\n",
    "    \n",
    "    def sgd(self):\n",
    "        for i,j in self._training_data:\n",
    "            e = ( self._R[i,j] - self.get_prediction(i,j) )\n",
    "\n",
    "            #update bias\n",
    "            self._user_bias[i] = self._user_bias[i] + self._alpha * (e - self._beta * self._user_bias[i])\n",
    "            self._item_bias[j] = self._item_bias[j] + self._alpha * (e - self._beta * self._item_bias[j])\n",
    "            \n",
    "            # update user item latent vector\n",
    "            self._U[i,:] = self._U[i,:] + self._alpha * (e * self._V[j,:] - self._beta * self._U[i,:])           \n",
    "            self._V[j,:] = self._V[j,:] + self._alpha * (e * self._U[i,:] - self._beta * self._V[j,:])\n",
    "\n",
    "            \n",
    "\n",
    "    def result(self):\n",
    "        return self._bias + self._user_bias[:,np.newaxis] + self._item_bias[np.newaxis:,] + np.dot(self._U , self._V.T )"
   ]
  },
  {
   "cell_type": "code",
   "execution_count": 9,
   "metadata": {},
   "outputs": [],
   "source": [
    "mf = MF(100 , rating_data , 100 , 0.1 , 0.01)"
   ]
  },
  {
   "cell_type": "code",
   "execution_count": null,
   "metadata": {
    "collapsed": true
   },
   "outputs": [],
   "source": []
  }
 ],
 "metadata": {
  "kernelspec": {
   "display_name": "Python 3",
   "language": "python",
   "name": "python3"
  },
  "language_info": {
   "codemirror_mode": {
    "name": "ipython",
    "version": 3
   },
   "file_extension": ".py",
   "mimetype": "text/x-python",
   "name": "python",
   "nbconvert_exporter": "python",
   "pygments_lexer": "ipython3",
   "version": "3.6.2"
  }
 },
 "nbformat": 4,
 "nbformat_minor": 2
}
